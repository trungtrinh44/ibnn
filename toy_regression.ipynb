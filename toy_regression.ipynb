{
  "nbformat": 4,
  "nbformat_minor": 0,
  "metadata": {
    "colab": {
      "name": "toy_regression.ipynb",
      "provenance": [],
      "collapsed_sections": [],
      "authorship_tag": "ABX9TyNje0pse9r7CwOUgBQ4a2fJ",
      "include_colab_link": true
    },
    "kernelspec": {
      "name": "python3",
      "display_name": "Python 3"
    },
    "accelerator": "GPU"
  },
  "cells": [
    {
      "cell_type": "markdown",
      "metadata": {
        "id": "view-in-github",
        "colab_type": "text"
      },
      "source": [
        "<a href=\"https://colab.research.google.com/github/trungtrinh44/ibnn/blob/bnn/toy_regression.ipynb\" target=\"_parent\"><img src=\"https://colab.research.google.com/assets/colab-badge.svg\" alt=\"Open In Colab\"/></a>"
      ]
    },
    {
      "cell_type": "code",
      "metadata": {
        "id": "hqjJv_1hE3nU"
      },
      "source": [
        "import torch\n",
        "import torch.nn as nn\n",
        "import torch.distributions as D\n",
        "from ibnn.models import StoLayer\n",
        "import matplotlib.pyplot as plt\n",
        "%matplotlib inline"
      ],
      "execution_count": 1,
      "outputs": []
    },
    {
      "cell_type": "code",
      "metadata": {
        "id": "Ymv1oGRlGZa_"
      },
      "source": [
        "class MLP(nn.Module):\n",
        "  def __init__(self, layer_sizes, std, n_components=4, prior_mean=1.0, prior_std=0.3, posterior_mean_init=(1.0, 0.5), posterior_std_init=(0.05, 0.02)):\n",
        "    super(MLP, self).__init__()\n",
        "    self.n_components = n_components\n",
        "    layers = [\n",
        "        StoLayer((1, ), n_components, prior_mean, prior_std, posterior_mean_init, posterior_std_init),\n",
        "        nn.Linear(1, layer_sizes[0])\n",
        "    ]\n",
        "    for isz, osz in zip(layer_sizes[:-1], layer_sizes[1:]):\n",
        "      layers.extend([\n",
        "          nn.ReLU(inplace=True),\n",
        "          StoLayer((isz, ), n_components, prior_mean, prior_std, posterior_mean_init, posterior_std_init),\n",
        "          nn.Linear(isz, osz)\n",
        "      ])\n",
        "    self.layers = nn.ModuleList(layers)\n",
        "    self.std = std\n",
        "    self.sto_modules = [\n",
        "      m for m in self.modules() if isinstance(m, StoLayer)\n",
        "    ]\n",
        "\n",
        "  def forward(self, x, L=1, indices=None):\n",
        "    if L > 1:\n",
        "      x = torch.repeat_interleave(x, L, 0)\n",
        "    if indices is None:\n",
        "      indices = torch.arange(x.size(0), device=x.device, dtype=torch.long) % self.n_components\n",
        "    for layer in self.layers:\n",
        "      if isinstance(layer, StoLayer):\n",
        "        x = layer(x, indices)\n",
        "      else:\n",
        "        x = layer(x)\n",
        "    x = x.view(-1, L)\n",
        "    return x\n",
        "  \n",
        "  def kl(self):\n",
        "    return sum(m.kl() for m in self.sto_modules)\n",
        "\n",
        "  def vb_loss(self, x, y, n_sample):\n",
        "    y = y.unsqueeze(1).expand(-1, n_sample)\n",
        "    logp = D.Normal(self.forward(x, n_sample), self.std).log_prob(y).mean()\n",
        "    return -logp, self.kl()\n",
        "  \n",
        "  def nll(self, x, y, n_sample):\n",
        "    indices = torch.empty(x.size(0)*n_sample, dtype=torch.long, device=x.device)\n",
        "    mean = torch.cat([self.forward(x, n_sample, indices=torch.full((x.size(0)*n_sample,), idx, out=indices, device=x.device, dtype=torch.long)) for idx in range(self.n_components)], dim=1)\n",
        "    logp = D.Normal(mean, self.std).log_prob(y.unsqueeze(1).expand(-1, self.n_components*n_sample))\n",
        "    logp = torch.logsumexp(logp, 1) - torch.log(torch.tensor(self.n_components*n_sample, dtype=torch.float32, device=x.device))\n",
        "    return -logp.mean(), prob"
      ],
      "execution_count": 2,
      "outputs": []
    },
    {
      "cell_type": "code",
      "metadata": {
        "id": "V_7_CX7VPBRZ"
      },
      "source": [
        "def generate_data():\n",
        "  train_x = torch.cat([torch.arange(-3, -1.0, 0.01), torch.arange(1, 3, 0.01)])\n",
        "  train_y = train_x**3 + torch.randn_like(train_x)*2\n",
        "  test_x = torch.cat([torch.arange(-5, -3, 0.1), torch.arange(-1, 1, 0.1), torch.arange(3, 5, 0.1)])\n",
        "  test_y = test_x**3 + torch.randn_like(test_x)*2\n",
        "  return train_x, train_y, test_x, test_y"
      ],
      "execution_count": 3,
      "outputs": []
    },
    {
      "cell_type": "code",
      "metadata": {
        "id": "Yi8VchfyP-_u"
      },
      "source": [
        "train_x, train_y, test_x, test_y = generate_data()"
      ],
      "execution_count": 4,
      "outputs": []
    },
    {
      "cell_type": "code",
      "metadata": {
        "id": "R6za9h4CNO1F"
      },
      "source": [
        "n_layers = 5\n",
        "model = MLP([256]*n_layers + [1], 1.0, 8)"
      ],
      "execution_count": 5,
      "outputs": []
    },
    {
      "cell_type": "code",
      "metadata": {
        "id": "2Hwn8ALoQKBJ",
        "outputId": "aa10d852-247e-4597-de85-c6f000b27d61",
        "colab": {
          "base_uri": "https://localhost:8080/",
          "height": 265
        }
      },
      "source": [
        "plt.plot(train_x, train_y, 'bo')\n",
        "plt.plot(test_x, test_y, 'ro')\n",
        "plt.show()"
      ],
      "execution_count": 6,
      "outputs": [
        {
          "output_type": "display_data",
          "data": {
            "image/png": "[encoded data removed]",
            "text/plain": [
              "<Figure size 432x288 with 1 Axes>"
            ]
          },
          "metadata": {
            "tags": [],
            "needs_background": "light"
          }
        }
      ]
    },
    {
      "cell_type": "code",
      "metadata": {
        "id": "f4SR8VtFQWM0"
      },
      "source": [
        "detpar = []\n",
        "stopar = []\n",
        "for name, param in model.named_parameters():\n",
        "  if 'posterior_mean' in name or 'posterior_std' in name:\n",
        "    stopar.append(param)\n",
        "  else:\n",
        "    detpar.append(param)\n",
        "optimizer = torch.optim.Adam(\n",
        "  [\n",
        "    {'params': stopar, 'lr': 0.008}, {'params': detpar, 'lr': 0.001} \n",
        "  ]#, momentum=0.9, nesterov=True\n",
        ")"
      ],
      "execution_count": 7,
      "outputs": []
    },
    {
      "cell_type": "code",
      "metadata": {
        "id": "5ZJ4awInR0rp",
        "outputId": "4e0d7a8c-0908-4da1-c544-bf18066884c3",
        "colab": {
          "base_uri": "https://localhost:8080/",
          "height": 17
        }
      },
      "source": [
        "model.to('cuda')\n",
        "train_xi = train_x.unsqueeze(1).to('cuda')\n",
        "train_yi = train_y.to('cuda')\n",
        "kl_weight = 0\n",
        "for _ in range(5000):\n",
        "  loglike, kl = model.vb_loss(train_xi, train_yi, 8)\n",
        "  loss = loglike + kl_weight*kl\n",
        "  optimizer.zero_grad()\n",
        "  loss.backward()\n",
        "  optimizer.step()\n",
        "  kl_weight = min(1.0,  kl_weight + 1.0/1000.0)\n",
        "  print(f\"Loglike: {loglike.item():.4f}, kl: {kl.item():.4f}, kl weight: {kl_weight:.4f}\", end='\\r')"
      ],
      "execution_count": 8,
      "outputs": [
        {
          "output_type": "stream",
          "text": [
            ""
          ],
          "name": "stdout"
        }
      ]
    },
    {
      "cell_type": "code",
      "metadata": {
        "id": "p9MG0MRNS_4d"
      },
      "source": [
        "test_y = model.forward(torch.arange(-5, 5, 0.1, device='cuda').unsqueeze(1), 60)"
      ],
      "execution_count": 9,
      "outputs": []
    },
    {
      "cell_type": "code",
      "metadata": {
        "id": "L6UOn-r2VEw6",
        "outputId": "ad280b07-1d76-4220-cce9-6eace48a51cc",
        "colab": {
          "base_uri": "https://localhost:8080/",
          "height": 374
        }
      },
      "source": [
        "plt.figure(figsize=(8, 6))\n",
        "plt.plot(train_x, train_y, 'ro')\n",
        "plt.plot(\n",
        "    torch.arange(-5, 5, 0.1).numpy(), \n",
        "    test_y.mean(1).cpu().detach().numpy()\n",
        ")\n",
        "plt.fill_between(\n",
        "    torch.arange(-5, 5, 0.1).numpy(),\n",
        "    test_y.mean(1).cpu().detach().numpy() - 2*test_y.std(1).cpu().detach().numpy(),\n",
        "    test_y.mean(1).cpu().detach().numpy() + 2*test_y.std(1).cpu().detach().numpy(), alpha=0.3\n",
        ")\n",
        "plt.savefig(f'ibnn_{n_layers}.pdf')"
      ],
      "execution_count": 10,
      "outputs": [
        {
          "output_type": "display_data",
          "data": {
            "image/png": "[encoded data removed]",
            "text/plain": [
              "<Figure size 576x432 with 1 Axes>"
            ]
          },
          "metadata": {
            "tags": [],
            "needs_background": "light"
          }
        }
      ]
    },
    {
      "cell_type": "code",
      "metadata": {
        "id": "Sf1Ea6sKXIJC"
      },
      "source": [
        ""
      ],
      "execution_count": 10,
      "outputs": []
    }
  ]
}